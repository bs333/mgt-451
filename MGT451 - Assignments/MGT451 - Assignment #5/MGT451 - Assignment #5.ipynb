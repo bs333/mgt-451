{
 "cells": [
  {
   "cell_type": "markdown",
   "metadata": {},
   "source": [
    "### MGT451 - Assignment #5 ~ Brier Score of Forecaster"
   ]
  },
  {
   "cell_type": "markdown",
   "metadata": {},
   "source": [
    "**Author**: Sid Bhatia\n",
    "\n",
    "**Date**: October 19th, 2023\n",
    "\n",
    "**Pledge**: I pledge my honor that I have abided by the Stevens Honor System.\n",
    "\n",
    "**Professor**: Dr. Jordan Suchow"
   ]
  },
  {
   "cell_type": "markdown",
   "metadata": {},
   "source": [
    "In this assignment, you will compute the Brier score of a forecaster.\n",
    "\n",
    "1. Select a forecasting problem (e.g., the event of whether a friend can correct translate a given English word into French)."
   ]
  },
  {
   "cell_type": "markdown",
   "metadata": {},
   "source": [
    "The forecasting problem revolves around predicting whether it will rain the following day (binary outcome: 1 for rain, 0 for no rain) based on daily weather forecasts."
   ]
  },
  {
   "cell_type": "markdown",
   "metadata": {},
   "source": [
    "2. Find a friend, family member, or classmate to help you out. Either you or your partner can serve as the forecaster."
   ]
  },
  {
   "cell_type": "markdown",
   "metadata": {},
   "source": [
    "In this scenario, my friend will serve as the forecaster, providing daily weather forecasts."
   ]
  },
  {
   "cell_type": "markdown",
   "metadata": {},
   "source": [
    "3. On each round, the forecaster will provide a forecast (i.e., a probability that the event will occur). Record the forecast and the outcome (1 when it happens, 0 when it does not). Repeat for a reasonable number of events."
   ]
  },
  {
   "cell_type": "code",
   "execution_count": 5,
   "metadata": {},
   "outputs": [],
   "source": [
    "import pandas as pd\n",
    "import numpy as np\n",
    "\n",
    "# Data Forecasts vs. Actual Outcomes\n",
    "forecasts = [0.3, 0.6, 0.2, 0.8, 0.4, 0.7, 0.1]\n",
    "actual_outcomes = [0, 1, 1, 1, 0, 1, 0]  # Actual outcomes (0 for no rain, 1 for rain)\n",
    "\n",
    "# Create a DataFrame to store the data\n",
    "data = {'Day': list(range(1, len(forecasts) + 1)),\n",
    "        'Forecasted Probability': forecasts,\n",
    "        'Actual Outcome': actual_outcomes}\n",
    "df = pd.DataFrame(data)"
   ]
  },
  {
   "cell_type": "markdown",
   "metadata": {},
   "source": [
    "4. Compute the forecaster's Brier score: the mean squared error between the forecast and the outcome."
   ]
  },
  {
   "cell_type": "code",
   "execution_count": 6,
   "metadata": {},
   "outputs": [],
   "source": [
    "# Calculate the Brier Score\n",
    "brier_score = np.mean((df['Forecasted Probability'] - df['Actual Outcome'])**2)"
   ]
  },
  {
   "cell_type": "markdown",
   "metadata": {},
   "source": [
    "5. Create a 1-page description of what you did, including a description of the forecasting problem (the event), a table of the results, and the computed Brier score. Did they do well?"
   ]
  },
  {
   "cell_type": "code",
   "execution_count": 7,
   "metadata": {},
   "outputs": [
    {
     "name": "stdout",
     "output_type": "stream",
     "text": [
      "Table of Results:\n",
      "   Day  Forecasted Probability  Actual Outcome\n",
      "0    1                     0.3               0\n",
      "1    2                     0.6               1\n",
      "2    3                     0.2               1\n",
      "3    4                     0.8               1\n",
      "4    5                     0.4               0\n",
      "5    6                     0.7               1\n",
      "6    7                     0.1               0\n",
      "\n",
      "Brier Score: 0.17\n"
     ]
    }
   ],
   "source": [
    "# Display the table and Brier Score\n",
    "print(\"Table of Results:\")\n",
    "print(df)\n",
    "print(f\"\\nBrier Score: {brier_score:.2f}\")"
   ]
  },
  {
   "cell_type": "markdown",
   "metadata": {},
   "source": [
    "**Assessment**:\n",
    "\n",
    "The forecaster demonstrated reasonably good performance in predicting rain based on daily weather forecasts. The Brier score of 0.17 indicates that, on average, the forecasts were fairly close to the actual outcomes. While there is always room for improvement, especially on days with unexpected weather patterns, the forecaster's predictions can be considered reliable for practical purposes."
   ]
  },
  {
   "cell_type": "markdown",
   "metadata": {},
   "source": [
    "**Conclusion**:\n",
    "\n",
    "In conclusion, this assignment successfully assessed the forecasting accuracy of a friend or partner using the Brier score. The forecaster's predictions for rain were reasonably accurate, as evidenced by the Brier score of 0.17. This score suggests that the forecasts provided valuable information for decision-making regarding weather-related activities."
   ]
  }
 ],
 "metadata": {
  "kernelspec": {
   "display_name": "Python 3",
   "language": "python",
   "name": "python3"
  },
  "language_info": {
   "codemirror_mode": {
    "name": "ipython",
    "version": 3
   },
   "file_extension": ".py",
   "mimetype": "text/x-python",
   "name": "python",
   "nbconvert_exporter": "python",
   "pygments_lexer": "ipython3",
   "version": "3.11.5"
  }
 },
 "nbformat": 4,
 "nbformat_minor": 2
}
