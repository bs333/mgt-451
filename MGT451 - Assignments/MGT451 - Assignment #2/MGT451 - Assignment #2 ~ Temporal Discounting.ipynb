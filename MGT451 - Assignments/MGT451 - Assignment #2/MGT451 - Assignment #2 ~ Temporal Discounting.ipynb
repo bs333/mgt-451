{
 "cells": [
  {
   "cell_type": "markdown",
   "metadata": {},
   "source": [
    "### MGT451 - Assignment #2 ~ Temporal Discounting"
   ]
  },
  {
   "cell_type": "markdown",
   "metadata": {},
   "source": [
    "**Author**: Sid Bhatia\n",
    "\n",
    "**Date**: October 2nd, 2023\n",
    "\n",
    "**Pledge**: I pledge my honor that I have abided by the Stevens Honor System.\n",
    "\n",
    "**Professor**: Dr. Jordan Suchow"
   ]
  },
  {
   "cell_type": "markdown",
   "metadata": {},
   "source": [
    "Step 1. Think of a kind of intertemporal choice scenario that you find fun and interesting to think about. Your intertemporal choice scenario should feature a decision between two options, a smaller sooner reward (SSR) and a later larger reward (LLR).\n",
    "\n",
    "Step 2. Collect data from yourself or a friend that measures the temporal discounting function. The vertical axis should be the discount factor and the horizontal axis should be time. You can measure this function in several different ways. Here's one:\n",
    "\n",
    "2a. Choose a point along the horizontal axis, t.\n",
    "\n",
    "2b. Choose an SSR amount, RSooner. Ask yourself or your friend the question, \"How much (or many) would I need to give you at time t for you to be indifferent between that option versus getting RSooner right now?\".  The answer will be some quantity or value in the same units as RSooner. The ratio gives the discount factor –— i.e., what fraction of the current value is the future value.\n",
    "\n",
    "2c. Plot the point.\n",
    "\n",
    "2d. If the shape of the curve isn't obvious yet, go back to step 2a.\n",
    "\n",
    "Step 3. Use some statistical computing package to find the best-fit exponential or hyperbolic function.\n",
    "\n",
    "Step 4. Compare the fits using some reasonable measure of goodness of fit, e.g. R2. Alternatively, visually inspect the curves, find the point where they differ the most, rerunning Step 2 at that point.\n",
    "\n",
    "Step 5. Plot the data and the two curves.\n",
    "\n",
    "Step 6. Create a PDF with the results of Step 5 along with a 1- or 2-paragraph description of the scenario you chose in Step 1 and the answer you determined in step 4."
   ]
  },
  {
   "cell_type": "markdown",
   "metadata": {},
   "source": [
    "#### Step 1 - Interpersonal Scenario\n",
    "\n",
    "Imagine you're given the option of eating one piece of your favorite chocolate right now or waiting a week to receive an entire box of the same chocolates. The immediate chocolate is the smaller sooner reward (SSR), and the box of chocolates in a week represents the later larger reward (LLR)."
   ]
  },
  {
   "cell_type": "markdown",
   "metadata": {},
   "source": [
    "#### Step 2 - Temporal Discounting Function"
   ]
  },
  {
   "cell_type": "markdown",
   "metadata": {},
   "source": [
    "After asking the question, \"How many chocolates would I need to give you in $x$ days for you to be indifferent between that option versus getting 1 chocolate right now?,\" here are the results:\n",
    "\n",
    "- Day 1: 1.5 chocolates\n",
    "- Day 2: 2 chocolates\n",
    "- Day 3: 3 chocolates\n",
    "- Day 4: 4 chocolates\n",
    "- Day 5: 6 chocolates\n",
    "- Day 6: 8 chocolates\n",
    "- Day 7: 12 chocolates (an entire box)"
   ]
  },
  {
   "cell_type": "code",
   "execution_count": 2,
   "metadata": {},
   "outputs": [],
   "source": [
    "import numpy as np\n",
    "import matplotlib.pyplot as plt\n",
    "from scipy.optimize import curve_fit\n",
    "\n",
    "days = np.array([1, 2, 3, 4, 5, 6, 7])\n",
    "chocolates_needed = np.array([1.5, 2, 3, 4, 6, 8, 12])"
   ]
  },
  {
   "cell_type": "markdown",
   "metadata": {},
   "source": [
    "#### Steps 3 & 4 - Exponential vs. Hyperbolic Fit Comparison"
   ]
  },
  {
   "cell_type": "markdown",
   "metadata": {},
   "source": [
    "We will find an exponential function that fits: $V = RSooner \\times e^{-kt}$.\n",
    "\n",
    "We will find a hyperbolic function that fits: $V = \\frac{RSooner}{1 + kt}$.\n",
    "\n",
    "We'd compare the R^2 values of these fits to decide which describes the data better."
   ]
  }
 ],
 "metadata": {
  "kernelspec": {
   "display_name": "Python 3",
   "language": "python",
   "name": "python3"
  },
  "language_info": {
   "codemirror_mode": {
    "name": "ipython",
    "version": 3
   },
   "file_extension": ".py",
   "mimetype": "text/x-python",
   "name": "python",
   "nbconvert_exporter": "python",
   "pygments_lexer": "ipython3",
   "version": "3.11.5"
  },
  "orig_nbformat": 4
 },
 "nbformat": 4,
 "nbformat_minor": 2
}
