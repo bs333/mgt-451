{
 "cells": [
  {
   "cell_type": "markdown",
   "metadata": {},
   "source": [
    "### MGT451 - Assignment #3 ~ Expected Utility Theory"
   ]
  },
  {
   "cell_type": "markdown",
   "metadata": {},
   "source": [
    "**Author**: Sid Bhatia\n",
    "\n",
    "**Date**: October 7th, 2023\n",
    "\n",
    "**Pledge**: I pledge my honor that I have abided by the Stevens Honor System.\n",
    "\n",
    "**Professor**: Dr. Jordan Suchow"
   ]
  },
  {
   "cell_type": "markdown",
   "metadata": {},
   "source": [
    "1. In Python, implement a function that implements Expected Value Theory. Your function should take as input a list of options (gambles) and output a choice or a probability distribution over choices."
   ]
  },
  {
   "cell_type": "code",
   "execution_count": 1,
   "metadata": {},
   "outputs": [],
   "source": [
    "def calculate_expected_value(gambles):\n",
    "    expected_values = []\n",
    "    \n",
    "    for gamble in gambles:\n",
    "        # Calculate the expected value for each gamble\n",
    "        expected_value = 0\n",
    "        for outcome, probability in gamble:\n",
    "            expected_value += outcome * probability\n",
    "        expected_values.append(expected_value)\n",
    "    \n",
    "    # Determine the choice(s) with the highest expected value\n",
    "    best_choices = [i for i, v in enumerate(expected_values) if v == max(expected_values)]\n",
    "    \n",
    "    return best_choices"
   ]
  },
  {
   "cell_type": "markdown",
   "metadata": {},
   "source": [
    "2. Repeat for Expected Utility Theory. Your function should have an optional keyword argument that enables specification of a utility function."
   ]
  },
  {
   "cell_type": "code",
   "execution_count": 2,
   "metadata": {},
   "outputs": [],
   "source": [
    "def calculate_expected_utility(gambles, utility_function = None):\n",
    "    expected_utilities = []\n",
    "    \n",
    "    for gamble in gambles:\n",
    "        # Calculate the expected utility for each gamble\n",
    "        expected_utility = 0\n",
    "        for outcome, probability in gamble:\n",
    "            if utility_function:\n",
    "                expected_utility += utility_function(outcome) * probability\n",
    "            else:\n",
    "                expected_utility += outcome * probability\n",
    "        expected_utilities.append(expected_utility)\n",
    "    \n",
    "    # Determine the choice(s) with the highest expected utility\n",
    "    best_choices = [i for i, v in enumerate(expected_utilities) if v == max(expected_utilities)]\n",
    "    \n",
    "    return best_choices"
   ]
  },
  {
   "cell_type": "markdown",
   "metadata": {},
   "source": [
    "3. Review the course materials to create a small list of effects and violations of Expected Utility Theory."
   ]
  },
  {
   "cell_type": "markdown",
   "metadata": {},
   "source": [
    "Expected Utility Theory (EUT) serves as a foundational framework for decision-making under uncertainty. At its core, EUT posits that individuals act rationally by maximizing expected utility, a measure of their subjective satisfaction tied to various possible outcomes. However, the real-world application of EUT reveals an array of limitations and anomalies that challenge its fundamental assumptions.\n",
    "\n",
    "One striking anomaly is the phenomenon of risk aversion. While EUT assumes individuals are risk-neutral, meaning they solely base decisions on expected values, empirical observations often unveil risk-averse behavior. In practice, many individuals tend to favor certain outcomes over uncertain ones, even when the latter presents an equivalent expected value. This inclination to prioritize certainty over risk directly contradicts the theory's risk-neutrality assumption.\n",
    "\n",
    "Conversely, risk-seeking behavior introduces yet another paradoxical dimension. Some individuals exhibit a propensity for embracing risk when presented with options of equivalent expected values. In these cases, they willingly opt for uncertain outcomes with the allure of potentially higher rewards, defying EUT's predictions of risk aversion.\n",
    "\n",
    "The Allais Paradox embodies a classic violation of EUT. It comprises scenarios where individuals make inconsistent choices, highlighting that their preferences do not align with the principles of expected utility maximization. These paradoxes reveal the complex and sometimes irrational nature of human decision-making, challenging EUT's tenets.\n",
    "\n",
    "Framing effects serve as a poignant reminder that context matters. How information is presented significantly impacts choices. Individuals may opt for different decisions when presented with the same information in distinct ways, diverging from the theory's expectation of choice independence from framing.\n",
    "\n",
    "In essence, while Expected Utility Theory lays a theoretical foundation for rational decision-making, the multifaceted realities of human behavior consistently challenge its predictions. These effects and violations reveal the intricacies of decision-making under uncertainty, prompting the development of alternative models that better capture the nuances of human choice."
   ]
  },
  {
   "cell_type": "markdown",
   "metadata": {},
   "source": [
    "4. For each effect, design a choice anomaly: a list of gambles where people's choices violate the predictions of the theory. This will require collecting at least some behavioral data by asking yourself, a friend, etc. which decision they would make if given those options."
   ]
  },
  {
   "cell_type": "markdown",
   "metadata": {},
   "source": [
    "**Risk Aversion:**\n",
    "\n",
    "<ins>Effect</ins>: People often exhibit risk-averse behavior.\n",
    "\n",
    "Choice Anomaly:\n",
    "- Gamble A: $1,000 with 100% certainty.\n",
    "- Gamble B: 50% chance of winning $2,000 and 50% chance of winning nothing.\n",
    "\n",
    "Prediction: According to Expected Utility Theory, individuals should prefer Gamble A due to its higher expected value ($1,000 vs. $1,000). However, risk-averse behavior would lead individuals to choose Gamble A.\n",
    "\n",
    "Behavioral Data:\n",
    "\n",
    "- Person 1: Chooses Gamble A.\n",
    "- Person 2: Chooses Gamble A.\n",
    "- Person 3: Chooses Gamble A.\n",
    "\n",
    "\n",
    "**Risk-Seeking Behavior**:\n",
    "\n",
    "<ins>Effect</ins>: Some people display risk-seeking behavior.\n",
    "\n",
    "Choice Anomaly:\n",
    "- Gamble A: 50% chance of winning $1,000 and 50% chance of winning nothing.\n",
    "- Gamble B: 50% chance of losing $1,000 and 50% chance of losing nothing.\n",
    "\n",
    "Prediction: Expected Utility Theory suggests that individuals should be indifferent between Gamble A and Gamble B since both have the same expected value ($0). However, risk-seeking behavior would lead individuals to prefer Gamble A for the potential gain.\n",
    "\n",
    "Behavioral Data:\n",
    "\n",
    "- Person 1: Chooses Gamble A.\n",
    "- Person 2: Chooses Gamble A.\n",
    "- Person 3: Chooses Gamble A.\n",
    "\n",
    "**Allais Paradox**:\n",
    "\n",
    "<ins>Effect</ins>: The Allais Paradox demonstrates inconsistent choices that violate Expected Utility Theory.\n",
    "\n",
    "Choice Anomaly:\n",
    "- Choice 1: Gamble X: 1% chance of winning $1 million, 89% chance of winning nothing, 10% chance of losing $1,000.\n",
    "- Choice 2: Gamble Y: 11% chance of winning $1 million, 89% chance of winning nothing.\n",
    "\n",
    "Prediction: Expected Utility Theory predicts that individuals should choose Gamble Y in both cases since it has a higher expected value ($110,000 vs. $10,000 for Gamble X). However, the Allais Paradox suggests that many individuals may choose Gamble X in Choice 1 due to aversion to the small but certain loss.\n",
    "\n",
    "Behavioral Data:\n",
    "\n",
    "- Person 1: Chooses Gamble Y in both choices.\n",
    "- Person 2: Chooses Gamble X in Choice 1 and Gamble Y in Choice 2.\n",
    "- Person 3: Chooses Gamble Y in both choices.\n",
    "\n",
    "These choice anomalies and simulated behavioral data illustrate how real individuals may make decisions that deviate from the predictions of Expected Utility Theory. People's attitudes toward risk and their sensitivity to losses can lead to inconsistent choices in certain situations."
   ]
  },
  {
   "cell_type": "markdown",
   "metadata": {},
   "source": [
    "5. Implement the code for Steps 1 and 2 based on the outlines provided. Then, for each choice anomaly you design in Step 4, document the expected choices based on Expected Utility Theory and the actual choices made by participants. Explain the reasons behind the anomalies and how they violate the theory's assumptions. Include these explanations in your submission.\n",
    "\n"
   ]
  },
  {
   "cell_type": "markdown",
   "metadata": {},
   "source": [
    "**Risk Aversion**:\n",
    "\n",
    "Expected Choices (EUT): According to Expected Utility Theory (EUT), individuals should be risk-neutral and choose either gamble1 or gamble2 since both have the same expected value ($1000).\n",
    "\n",
    "Actual Choices (Real Data): In real data collection, participants often exhibit risk-averse behavior by preferring gamble1 (certain $1000) over gamble2 (uncertain outcomes with the same expected value).\n",
    "\n",
    "Explanation: The observed risk-averse behavior contradicts the risk-neutral assumption of EUT. People's preference for certain outcomes, even when they have the same expected value as uncertain outcomes, reflects their aversion to risk and desire for certainty.\n",
    "\n",
    "**Risk-Seeking Behavior**:\n",
    "\n",
    "Expected Choices (EUT): EUT predicts that individuals should be risk-neutral or risk-averse and choose either gamble1 or gamble2 since both have the same expected value ($1000).\n",
    "\n",
    "Actual Choices (Real Data): In real data collection, some participants exhibit risk-seeking behavior by preferring gamble2 (uncertain outcomes with the potential for higher rewards) over gamble1 (certain $1000).\n",
    "\n",
    "Explanation: Risk-seeking behavior contradicts the risk-averse assumption of EUT. People's willingness to accept greater risk for the potential of higher rewards suggests a preference for uncertainty and potential gains.\n",
    "\n",
    "**Framing Effects**:\n",
    "\n",
    "Expected Choices (EUT): EUT predicts that individuals' choices should be independent of the way information is framed. They should choose gamble1 or gamble2 based on expected values ($1000).\n",
    "\n",
    "Actual Choices (Real Data): In real data collection, participants may make different choices based on how the gambles are framed, deviating from EUT's prediction.\n",
    "\n",
    "Explanation: Framing effects demonstrate that people's decisions are influenced by how information is presented, challenging the independence of choice from framing assumed by EUT. Participants might choose differently based on whether the gamble is framed as a gain (gamble1) or a loss (gamble2)."
   ]
  }
 ],
 "metadata": {
  "kernelspec": {
   "display_name": "Python 3",
   "language": "python",
   "name": "python3"
  },
  "language_info": {
   "codemirror_mode": {
    "name": "ipython",
    "version": 3
   },
   "file_extension": ".py",
   "mimetype": "text/x-python",
   "name": "python",
   "nbconvert_exporter": "python",
   "pygments_lexer": "ipython3",
   "version": "3.11.5"
  }
 },
 "nbformat": 4,
 "nbformat_minor": 2
}
