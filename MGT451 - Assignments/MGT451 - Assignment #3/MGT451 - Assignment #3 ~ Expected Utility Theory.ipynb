{
 "cells": [
  {
   "cell_type": "markdown",
   "metadata": {},
   "source": [
    "### MGT451 - Assignment #3 ~ Expected Utility Theory"
   ]
  },
  {
   "cell_type": "markdown",
   "metadata": {},
   "source": [
    "**Author**: Sid Bhatia\n",
    "\n",
    "**Date**: October 7th, 2023\n",
    "\n",
    "**Pledge**: I pledge my honor that I have abided by the Stevens Honor System.\n",
    "\n",
    "**Professor**: Dr. Jordan Suchow"
   ]
  },
  {
   "cell_type": "markdown",
   "metadata": {},
   "source": [
    "Step 1. In Python, implement a function that implements Expected Value Theory. Your function should take as input a list of options (gambles) and output a choice or a probability distribution over choices."
   ]
  },
  {
   "cell_type": "code",
   "execution_count": 1,
   "metadata": {},
   "outputs": [],
   "source": [
    "def calculate_expected_value(gambles):\n",
    "    expected_values = []\n",
    "    \n",
    "    for gamble in gambles:\n",
    "        # Calculate the expected value for each gamble\n",
    "        expected_value = 0\n",
    "        for outcome, probability in gamble:\n",
    "            expected_value += outcome * probability\n",
    "        expected_values.append(expected_value)\n",
    "    \n",
    "    # Determine the choice(s) with the highest expected value\n",
    "    best_choices = [i for i, v in enumerate(expected_values) if v == max(expected_values)]\n",
    "    \n",
    "    return best_choices"
   ]
  },
  {
   "cell_type": "markdown",
   "metadata": {},
   "source": [
    "Step 2. Repeat for Expected Utility Theory. Your function should have an optional keyword argument that enables specification of a utility function."
   ]
  },
  {
   "cell_type": "code",
   "execution_count": 2,
   "metadata": {},
   "outputs": [],
   "source": [
    "def calculate_expected_utility(gambles, utility_function = None):\n",
    "    expected_utilities = []\n",
    "    \n",
    "    for gamble in gambles:\n",
    "        # Calculate the expected utility for each gamble\n",
    "        expected_utility = 0\n",
    "        for outcome, probability in gamble:\n",
    "            if utility_function:\n",
    "                expected_utility += utility_function(outcome) * probability\n",
    "            else:\n",
    "                expected_utility += outcome * probability\n",
    "        expected_utilities.append(expected_utility)\n",
    "    \n",
    "    # Determine the choice(s) with the highest expected utility\n",
    "    best_choices = [i for i, v in enumerate(expected_utilities) if v == max(expected_utilities)]\n",
    "    \n",
    "    return best_choices"
   ]
  }
 ],
 "metadata": {
  "kernelspec": {
   "display_name": "Python 3",
   "language": "python",
   "name": "python3"
  },
  "language_info": {
   "codemirror_mode": {
    "name": "ipython",
    "version": 3
   },
   "file_extension": ".py",
   "mimetype": "text/x-python",
   "name": "python",
   "nbconvert_exporter": "python",
   "pygments_lexer": "ipython3",
   "version": "3.11.5"
  }
 },
 "nbformat": 4,
 "nbformat_minor": 2
}
