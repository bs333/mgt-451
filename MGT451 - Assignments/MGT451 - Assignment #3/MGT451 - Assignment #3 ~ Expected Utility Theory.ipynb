{
 "cells": [
  {
   "cell_type": "markdown",
   "metadata": {},
   "source": [
    "### MGT451 - Assignment #3 ~ Expected Utility Theory"
   ]
  },
  {
   "cell_type": "markdown",
   "metadata": {},
   "source": [
    "**Author**: Sid Bhatia\n",
    "\n",
    "**Date**: October 7th, 2023\n",
    "\n",
    "**Pledge**: I pledge my honor that I have abided by the Stevens Honor System.\n",
    "\n",
    "**Professor**: Dr. Jordan Suchow"
   ]
  },
  {
   "cell_type": "markdown",
   "metadata": {},
   "source": [
    "1. In Python, implement a function that implements Expected Value Theory. Your function should take as input a list of options (gambles) and output a choice or a probability distribution over choices."
   ]
  },
  {
   "cell_type": "code",
   "execution_count": 1,
   "metadata": {},
   "outputs": [],
   "source": [
    "def calculate_expected_value(gambles):\n",
    "    expected_values = []\n",
    "    \n",
    "    for gamble in gambles:\n",
    "        # Calculate the expected value for each gamble\n",
    "        expected_value = 0\n",
    "        for outcome, probability in gamble:\n",
    "            expected_value += outcome * probability\n",
    "        expected_values.append(expected_value)\n",
    "    \n",
    "    # Determine the choice(s) with the highest expected value\n",
    "    best_choices = [i for i, v in enumerate(expected_values) if v == max(expected_values)]\n",
    "    \n",
    "    return best_choices"
   ]
  },
  {
   "cell_type": "markdown",
   "metadata": {},
   "source": [
    "2. Repeat for Expected Utility Theory. Your function should have an optional keyword argument that enables specification of a utility function."
   ]
  },
  {
   "cell_type": "code",
   "execution_count": 2,
   "metadata": {},
   "outputs": [],
   "source": [
    "def calculate_expected_utility(gambles, utility_function = None):\n",
    "    expected_utilities = []\n",
    "    \n",
    "    for gamble in gambles:\n",
    "        # Calculate the expected utility for each gamble\n",
    "        expected_utility = 0\n",
    "        for outcome, probability in gamble:\n",
    "            if utility_function:\n",
    "                expected_utility += utility_function(outcome) * probability\n",
    "            else:\n",
    "                expected_utility += outcome * probability\n",
    "        expected_utilities.append(expected_utility)\n",
    "    \n",
    "    # Determine the choice(s) with the highest expected utility\n",
    "    best_choices = [i for i, v in enumerate(expected_utilities) if v == max(expected_utilities)]\n",
    "    \n",
    "    return best_choices"
   ]
  },
  {
   "cell_type": "markdown",
   "metadata": {},
   "source": [
    "3. Review the course materials to create a small list of effects and violations of Expected Utility Theory."
   ]
  },
  {
   "cell_type": "markdown",
   "metadata": {},
   "source": [
    "Expected Utility Theory (EUT) serves as a foundational framework for decision-making under uncertainty. At its core, EUT posits that individuals act rationally by maximizing expected utility, a measure of their subjective satisfaction tied to various possible outcomes. However, the real-world application of EUT reveals an array of limitations and anomalies that challenge its fundamental assumptions.\n",
    "\n",
    "One striking anomaly is the phenomenon of risk aversion. While EUT assumes individuals are risk-neutral, meaning they solely base decisions on expected values, empirical observations often unveil risk-averse behavior. In practice, many individuals tend to favor certain outcomes over uncertain ones, even when the latter presents an equivalent expected value. This inclination to prioritize certainty over risk directly contradicts the theory's risk-neutrality assumption.\n",
    "\n",
    "Conversely, risk-seeking behavior introduces yet another paradoxical dimension. Some individuals exhibit a propensity for embracing risk when presented with options of equivalent expected values. In these cases, they willingly opt for uncertain outcomes with the allure of potentially higher rewards, defying EUT's predictions of risk aversion.\n",
    "\n",
    "The Allais Paradox embodies a classic violation of EUT. It comprises scenarios where individuals make inconsistent choices, highlighting that their preferences do not align with the principles of expected utility maximization. These paradoxes reveal the complex and sometimes irrational nature of human decision-making, challenging EUT's tenets.\n",
    "\n",
    "Framing effects serve as a poignant reminder that context matters. How information is presented significantly impacts choices. Individuals may opt for different decisions when presented with the same information in distinct ways, diverging from the theory's expectation of choice independence from framing.\n",
    "\n",
    "Prospect Theory, formulated by Kahneman and Tversky, proposes an alternative perspective. It suggests that people assess outcomes based on gains and losses relative to a reference point, displaying loss aversion. Here, individuals exhibit heightened sensitivity to losses compared to equivalent gains, straying from EUT's core assumptions about how individuals value outcomes.\n",
    "\n",
    "The endowment effect delves into cognitive biases. It exposes the human tendency to overvalue possessions they own relative to equivalent items they do not possess. People often resist parting with their possessions, even when doing so would be economically rational. This behavior contradicts EUT's fundamental premise of rational utility maximization.\n",
    "\n",
    "In essence, while Expected Utility Theory lays a theoretical foundation for rational decision-making, the multifaceted realities of human behavior consistently challenge its predictions. These effects and violations reveal the intricacies of decision-making under uncertainty, prompting the development of alternative models that better capture the nuances of human choice."
   ]
  }
 ],
 "metadata": {
  "kernelspec": {
   "display_name": "Python 3",
   "language": "python",
   "name": "python3"
  },
  "language_info": {
   "codemirror_mode": {
    "name": "ipython",
    "version": 3
   },
   "file_extension": ".py",
   "mimetype": "text/x-python",
   "name": "python",
   "nbconvert_exporter": "python",
   "pygments_lexer": "ipython3",
   "version": "3.11.5"
  }
 },
 "nbformat": 4,
 "nbformat_minor": 2
}
