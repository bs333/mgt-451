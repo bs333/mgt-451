{
 "cells": [
  {
   "cell_type": "markdown",
   "metadata": {},
   "source": [
    "### MGT451 - Assignment #1 ~ Optimal Prediction"
   ]
  },
  {
   "cell_type": "markdown",
   "metadata": {},
   "source": [
    "**Author**: Sid Bhatia\n",
    "\n",
    "**Date**: September 23, 2023\n",
    "\n",
    "**Pledge**: I pledge my honor that I have abided by the Stevens Honor System.\n",
    "\n",
    "**Professor**: Dr. Jordan Suchow"
   ]
  },
  {
   "cell_type": "markdown",
   "metadata": {},
   "source": [
    "Below are the instructions for the assignment:\n",
    "\n",
    "1. Read the paper *Optimal Predictions in Everyday Cognition.*\n",
    "2. Think of a new everyday phenomenon not included in the original study. Use a domain for which empirical evidence about the event's duration exists, and find that data. Pick something you find fun and interesting.\n",
    "3. Reproduce the prediction experiment with a friend or two, collecting their predicted  \n",
    " as a function of t.\n",
    "4. Create two plots, following the style of Fig. 2 in the paper. The upper plot should show the empirical distribution of durations you found in Step 2. The lower plot should show both the empirical data you collected in Step 3, as well as the predicted predictions given by the delta t argument.\n",
    "Optionally, reproduce the solid black line based on the empirical distribution from Step 2.\n",
    "5. Create a 1-page PDF containing the plots from Step 4 and a 1-paragraph description of the domain you selected."
   ]
  },
  {
   "cell_type": "code",
   "execution_count": 1,
   "metadata": {},
   "outputs": [
    {
     "name": "stdout",
     "output_type": "stream",
     "text": [
      "Add markdown.\n"
     ]
    }
   ],
   "source": [
    "print('Add markdown.')"
   ]
  }
 ],
 "metadata": {
  "kernelspec": {
   "display_name": "Python 3",
   "language": "python",
   "name": "python3"
  },
  "language_info": {
   "codemirror_mode": {
    "name": "ipython",
    "version": 3
   },
   "file_extension": ".py",
   "mimetype": "text/x-python",
   "name": "python",
   "nbconvert_exporter": "python",
   "pygments_lexer": "ipython3",
   "version": "3.11.3"
  },
  "orig_nbformat": 4
 },
 "nbformat": 4,
 "nbformat_minor": 2
}
