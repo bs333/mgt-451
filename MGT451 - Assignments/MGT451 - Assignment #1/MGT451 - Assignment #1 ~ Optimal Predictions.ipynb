{
 "cells": [
  {
   "cell_type": "markdown",
   "metadata": {},
   "source": [
    "### MGT451 - Assignment #1 ~ Optimal Prediction"
   ]
  },
  {
   "cell_type": "markdown",
   "metadata": {},
   "source": [
    "**Author**: Sid Bhatia\n",
    "\n",
    "**Date**: September 23, 2023\n",
    "\n",
    "**Pledge**: I pledge my honor that I have abided by the Stevens Honor System.\n",
    "\n",
    "**Professor**: Dr. Jordan Suchow"
   ]
  },
  {
   "cell_type": "markdown",
   "metadata": {},
   "source": [
    "Below are the instructions for the assignment:\n",
    "\n",
    "1. Read the paper *Optimal Predictions in Everyday Cognition.*\n",
    "\n",
    "2. Think of a new everyday phenomenon not included in the original study. Use a domain for which empirical evidence about the event's duration exists, and find that data. Pick something you find fun and interesting.\n",
    "\n",
    "3. Reproduce the prediction experiment with a friend or two, collecting their predicted $t_{total}$ as a function of $t$.\n",
    "\n",
    "4. Create two plots, following the style of $\\text{Fig. 2}$ in the paper. The upper plot should show the empirical distribution of durations you found in Step 2. The lower plot should show both the empirical data you collected in Step 3, as well as the predicted predictions given by the delta $t$ argument.\n",
    "\n",
    "5. Optionally, reproduce the solid black line based on the empirical distribution from Step 2.\n",
    "6. Create a 1-page PDF containing the plots from Step 4 and a 1-paragraph description of the domain you selected."
   ]
  },
  {
   "cell_type": "markdown",
   "metadata": {},
   "source": [
    "#### Data Collection\n",
    "\n",
    "For this assignment, I have chosen to evaluate NYPD Crime Data and want to explore the empirical distributions of crime as a function as time. Specifically, do more crimes happen at certain periods in the day in NYC? We use this data to define the population distributions of crime and then will compare it to the prediction experiment."
   ]
  },
  {
   "cell_type": "markdown",
   "metadata": {},
   "source": [
    "Using the **NYPD_Complaint_Data_Current__Year_To_Date_.csv** data, we 36 columns/fields, but we solely care about the following:\n",
    "- *CMPLNT_NUM*: Randomly generated persistent ID for each complaint.\n",
    "- *CMPLNT_FR_TM*: Exact time of occurrence for the reported event (or starting time of occurrence, if CMPLNT_TO_TM exists)."
   ]
  },
  {
   "cell_type": "code",
   "execution_count": 4,
   "metadata": {},
   "outputs": [
    {
     "name": "stdout",
     "output_type": "stream",
     "text": [
      "    CMPLNT_NUM  ADDR_PCT_CD        BORO_NM CMPLNT_FR_DT CMPLNT_FR_TM   \n",
      "0    264551409         43.0          BRONX   03/04/2023     12:55:00  \\\n",
      "1  268554247H1          NaN  STATEN ISLAND   05/19/2023     15:52:00   \n",
      "2    270383297         52.0          BRONX   06/24/2023     14:35:00   \n",
      "3    267154459         32.0      MANHATTAN   04/01/2022     15:00:00   \n",
      "4    262715874         30.0      MANHATTAN   12/29/2022     00:00:00   \n",
      "\n",
      "  CMPLNT_TO_DT CMPLNT_TO_TM CRM_ATPT_CPTD_CD HADEVELOPT  HOUSING_PSA  ...   \n",
      "0          NaN       (null)        COMPLETED     (null)          NaN  ...  \\\n",
      "1          NaN       (null)        COMPLETED     (null)          NaN  ...   \n",
      "2          NaN       (null)        COMPLETED     (null)          NaN  ...   \n",
      "3   04/01/2023     15:00:00        COMPLETED     (null)          NaN  ...   \n",
      "4   01/29/2023     16:00:00        COMPLETED     (null)          NaN  ...   \n",
      "\n",
      "   Y_COORD_CD   Latitude  Longitude                  Lat_Lon   \n",
      "0    239111.0  40.822882 -73.848929  (40.822882, -73.848929)  \\\n",
      "1         NaN        NaN        NaN                      NaN   \n",
      "2    255273.0  40.867300 -73.903374    (40.8673, -73.903374)   \n",
      "3    236537.0  40.815904 -73.945123  (40.815904, -73.945123)   \n",
      "4    240313.0  40.826268 -73.943126  (40.826268, -73.943126)   \n",
      "\n",
      "       New Georeferenced Column Zip Codes Community Districts   \n",
      "0  POINT (-73.848929 40.822882)   11611.0                58.0  \\\n",
      "1                           NaN       NaN                 NaN   \n",
      "2    POINT (-73.903374 40.8673)   11606.0                24.0   \n",
      "3  POINT (-73.945123 40.815904)   12427.0                18.0   \n",
      "4  POINT (-73.943126 40.826268)   12428.0                37.0   \n",
      "\n",
      "  Borough Boundaries  City Council Districts Police Precincts  \n",
      "0                5.0                    31.0             26.0  \n",
      "1                NaN                     NaN              NaN  \n",
      "2                5.0                    29.0             34.0  \n",
      "3                4.0                    36.0             20.0  \n",
      "4                4.0                    36.0             19.0  \n",
      "\n",
      "[5 rows x 41 columns]\n"
     ]
    }
   ],
   "source": [
    "# Import necessary libraries\n",
    "import pandas as pd\n",
    "import matplotlib as plt\n",
    "\n",
    "# Load the CSV file into a DataFrame\n",
    "file_path = 'NYPD_Complaint_Data_Current__Year_To_Date_.csv'\n",
    "df = pd.read_csv(file_path)\n",
    "\n",
    "# Display the first few rows of the DataFrame\n",
    "print(df.head())"
   ]
  }
 ],
 "metadata": {
  "kernelspec": {
   "display_name": "Python 3",
   "language": "python",
   "name": "python3"
  },
  "language_info": {
   "codemirror_mode": {
    "name": "ipython",
    "version": 3
   },
   "file_extension": ".py",
   "mimetype": "text/x-python",
   "name": "python",
   "nbconvert_exporter": "python",
   "pygments_lexer": "ipython3",
   "version": "3.11.3"
  },
  "orig_nbformat": 4
 },
 "nbformat": 4,
 "nbformat_minor": 2
}
