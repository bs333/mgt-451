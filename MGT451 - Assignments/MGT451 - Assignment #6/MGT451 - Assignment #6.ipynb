{
 "cells": [
  {
   "cell_type": "markdown",
   "metadata": {},
   "source": [
    "### MGT451 - Assignment #6 ~ Complex Behavioral Phenomenon"
   ]
  },
  {
   "cell_type": "markdown",
   "metadata": {},
   "source": [
    "In this assignment, you will select a complex behavioral phenomenon like the one we saw in the NY Times documentary on diving (\"10 Meter Tower\"). Write a 1-page description of the phenomenon that considers what you would need to include in an agent-based simulation to say that you had fully captured the essence of the phenomenon. Be sure to include:"
   ]
  },
  {
   "cell_type": "markdown",
   "metadata": {},
   "source": [
    "1. What are the key observed behaviors or measurable outcomes (e.g., in the diving example, these might include waiting time and outward manifestations of hesitation)."
   ]
  },
  {
   "cell_type": "markdown",
   "metadata": {},
   "source": [
    "1. *Merging Point Selection*: Observing where and when drivers decide to merge into the available lane(s).\n",
    "\n",
    "2. *Speed Adjustment*: Measuring changes in vehicle speed as drivers approach the merging point.\n",
    "\n",
    "3. *Gap Acceptance*: Examining the willingness of drivers to accept gaps in traffic and merge safely.\n",
    "\n",
    "4. *Lane Blocking*: Identifying instances where drivers refuse to allow others to merge, potentially causing traffic congestion and conflicts.\n",
    "\n",
    "5. *Turn Signal Usage*: Observing the use of turn signals to indicate merging intentions.\n",
    "\n",
    "6. *Traffic Flow*: Assessing the overall impact on traffic flow and congestion due to merging behavior."
   ]
  },
  {
   "cell_type": "markdown",
   "metadata": {},
   "source": [
    "2. What are key dependent variables or factors that might affect the outcome (e.g., in the diving example, these might include the height of the tower, the presence of an audience, or the temperature of the water)?"
   ]
  },
  {
   "cell_type": "markdown",
   "metadata": {},
   "source": [
    "**Phenomenon Description**:\n",
    "\n",
    "Traffic merge behavior on highways is a fascinating and intricate behavioral phenomenon where drivers must decide how and when to merge their vehicles when lanes are reduced or when multiple lanes converge into one. This scenario often leads to various driving behaviors, interactions, and choices among drivers."
   ]
  }
 ],
 "metadata": {
  "language_info": {
   "name": "python"
  }
 },
 "nbformat": 4,
 "nbformat_minor": 2
}
